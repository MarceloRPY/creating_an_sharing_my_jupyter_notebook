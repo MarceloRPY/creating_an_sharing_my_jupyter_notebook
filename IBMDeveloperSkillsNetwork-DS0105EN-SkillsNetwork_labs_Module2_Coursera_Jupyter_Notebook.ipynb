{
  "metadata": {
    "kernelspec": {
      "name": "python",
      "display_name": "Pyolite",
      "language": "python"
    },
    "language_info": {
      "codemirror_mode": {
        "name": "python",
        "version": 3
      },
      "file_extension": ".py",
      "mimetype": "text/x-python",
      "name": "python",
      "nbconvert_exporter": "python",
      "pygments_lexer": "ipython3",
      "version": "3.8"
    }
  },
  "nbformat_minor": 4,
  "nbformat": 4,
  "cells": [
    {
      "cell_type": "markdown",
      "source": "<center>\n    <img src=\"https://cf-courses-data.s3.us.cloud-object-storage.appdomain.cloud/IBMDeveloperSkillsNetwork-DS0105EN-SkillsNetwork/labs/Module2/images/SN_web_lightmode.png\" width=\"300\" alt=\"cognitiveclass.ai logo\">\n</center>\n",
      "metadata": {}
    },
    {
      "cell_type": "markdown",
      "source": "# My Jupyter Notebook on IBM Watson Studio ",
      "metadata": {}
    },
    {
      "cell_type": "markdown",
      "source": "<b>Marcelo MedeirosRota</b>\n<br> Financial Data Scientist",
      "metadata": {}
    },
    {
      "cell_type": "markdown",
      "source": "<i>I am interested in data science because of its great potential in helping my work of analyzing financial assets.</i>",
      "metadata": {}
    },
    {
      "cell_type": "markdown",
      "source": "### In the next cell I will show an example of a python code that creates a function that adds 10 to any given number:",
      "metadata": {}
    },
    {
      "cell_type": "code",
      "source": "def plus_10 (x):\n    return x + 10\n\nprint (plus_10(2))",
      "metadata": {
        "trusted": true
      },
      "execution_count": 7,
      "outputs": [
        {
          "name": "stdout",
          "text": "12\n",
          "output_type": "stream"
        }
      ]
    },
    {
      "cell_type": "markdown",
      "source": "This is an exemple of how to use bulleted lists with HTML and also of how to crate hyperlinks:\n\n<ul>\n  <li><a href=\"https://en.wikipedia.org/wiki/1\">1</a> </li>\n  <li><a href=\"https://en.wikipedia.org/wiki/2\">2</a></li>\n  <li><a href=\"https://en.wikipedia.org/wiki/3\">3</a></li>\n</ul> \n\nBlocked Quote:\n\n<blockquote>This is an example of how to use blocked quotes with HTML<blockquote>",
      "metadata": {}
    }
  ]
}